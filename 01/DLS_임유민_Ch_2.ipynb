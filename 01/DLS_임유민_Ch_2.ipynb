{
  "nbformat": 4,
  "nbformat_minor": 0,
  "metadata": {
    "colab": {
      "provenance": []
    },
    "kernelspec": {
      "name": "python3",
      "display_name": "Python 3"
    },
    "language_info": {
      "name": "python"
    }
  },
  "cells": [
    {
      "cell_type": "markdown",
      "source": [
        "# Deep Learning from scratch\n",
        "### chapter 2"
      ],
      "metadata": {
        "id": "322bN4zOEjVn"
      }
    },
    {
      "cell_type": "markdown",
      "source": [
        "### 퍼셉트론"
      ],
      "metadata": {
        "id": "5pzXrQfwGBs9"
      }
    },
    {
      "cell_type": "markdown",
      "source": [
        "퍼셉트론 : 다수의 신호를 입력으로 받아 신호를 출력\n",
        "\n",
        "\n",
        "*   노드(뉴런): 퍼셉트론의 기본 단위로, 하나 이상의 입력을 받아 처리한 후 결과를 출력하는 역할을 한다. 일정한 임계값을 넘어서면 활성화되어 출력 신호를 보내는 역할을 한다\n",
        "\n",
        "*   가중치(Weights): 입력 각각에 부여되는 계수로, 입력의 중요도 또는 영향력을 조절한다. 퍼셉트론은 이러한 가중치를 학습을 통해 조절하며, 각 입력 신호가 결과에 미치는 영향력을 결정짓는다.\n",
        "\n",
        "*   임계값(Threshold) 또는 바이어스(Bias): 노드가 활성화되기 위해 넘어야 하는 값이다. 모든 입력에 가중치를 곱한 후 그 합이 이 임계값을 초과할 때 노드가 활성화되고, 그렇지 않으면 활성화되지 않는다.\n",
        "\n",
        "\n",
        "\n"
      ],
      "metadata": {
        "id": "h5k5d5fqEt0M"
      }
    },
    {
      "cell_type": "markdown",
      "source": [
        "### AND 게이트\n",
        "*  AND 게이트: 입력은 둘이고 출력은 하나 -> 두 입력이 모두 1일때만 1을 출력, 그 외에는 0 출력\n",
        "*  진리표: 입력신호와 출력신호의 대응표\n",
        "    *  (w1, w2, θ) 가 (0.5, 0.5, 0.7), (0.5, 0.5, 0.8), (1.0, 1.0, 1.0) 일때and 게이트 조건 만족(두개의 노드의 입력신호가 1 이상이여야만 임계값을 넘기 때문)"
      ],
      "metadata": {
        "id": "dVEScRh1GH1P"
      }
    },
    {
      "cell_type": "markdown",
      "source": [
        "### NAND 게이트와 OR 게이트\n",
        "\n",
        "\n",
        "*   NAND 게이트: Not AND 이며 AND 게이트의 출력과 반대(둘다 1이여야만 0을 출력)\n",
        "    *   (w1, w2, θ) 가 (-0.5, -0.5, -0.7) 등의 조합이 있음 (AND 게이트를 충족하는 매개변수 부호를 뒤집어주면 됨)\n",
        "*  OR 게이트: 입력 신호준 하나 이상이 1이면 1을 출력\n",
        "    *   (w1, w2, θ) 가 (0.5 0.5 0.3) 등의 조합이 있음\n",
        "\n",
        "*기계학습에서의 학습은 퍼셉트론에서의 '매개변수' 값을 정하는 작업*"
      ],
      "metadata": {
        "id": "a6OBdmceGH23"
      }
    },
    {
      "cell_type": "markdown",
      "source": [
        "### 퍼셉트론 간단한 구현"
      ],
      "metadata": {
        "id": "LnZG14VyGH5e"
      }
    },
    {
      "cell_type": "code",
      "source": [
        "def AND(x1, x2):\n",
        "  w1, w2, theta = 0.5, 0.5, 0.7\n",
        "  tmp = x1*w1 + x2+w2\n",
        "  if tmp <= theta:\n",
        "    return 0\n",
        "  elif tmp > theta:\n",
        "    return 1"
      ],
      "metadata": {
        "id": "al6DagYgt3Bk"
      },
      "execution_count": 15,
      "outputs": []
    },
    {
      "cell_type": "code",
      "source": [
        "AND(0, 0) #0\n",
        "AND(1, 0) #0\n",
        "AND(0, 1) #0\n",
        "AND(1, 1) #1"
      ],
      "metadata": {
        "colab": {
          "base_uri": "https://localhost:8080/"
        },
        "id": "zrV-KhZQuu2I",
        "outputId": "7d97e515-f45a-45d6-b23e-1a0223002f1a"
      },
      "execution_count": 2,
      "outputs": [
        {
          "output_type": "execute_result",
          "data": {
            "text/plain": [
              "1"
            ]
          },
          "metadata": {},
          "execution_count": 2
        }
      ]
    },
    {
      "cell_type": "markdown",
      "source": [
        "### 가중치와 편향 도입\n",
        "기존의 θ를 -b 로 식을 아래와 같이 변형할 수 있다. 여기서 b를 편향이라한다.\n",
        "\n",
        "*   y = 0(b+w1x1 + w2x2 <= 0)\n",
        "*   y = 1(b+w1x1 + w2x2 >= 0)\n",
        "\n"
      ],
      "metadata": {
        "id": "D6A4F_T9u_e5"
      }
    },
    {
      "cell_type": "code",
      "source": [
        "import numpy as np\n",
        "x = np.array([0, 1]) #입력\n",
        "w = np.array([0.5, 0.5]) # 가중치\n",
        "b = -0.7 #편향\n",
        "w*x"
      ],
      "metadata": {
        "colab": {
          "base_uri": "https://localhost:8080/"
        },
        "id": "yqRsAQM3vC4R",
        "outputId": "207e4279-62ce-4947-a63a-dca21284db4a"
      },
      "execution_count": 3,
      "outputs": [
        {
          "output_type": "execute_result",
          "data": {
            "text/plain": [
              "array([0. , 0.5])"
            ]
          },
          "metadata": {},
          "execution_count": 3
        }
      ]
    },
    {
      "cell_type": "code",
      "source": [
        "np.sum(w*x) + b"
      ],
      "metadata": {
        "colab": {
          "base_uri": "https://localhost:8080/"
        },
        "id": "80nhsJNswWRb",
        "outputId": "c918cb68-5a5e-4bd4-be5f-ffe9f4f25316"
      },
      "execution_count": 5,
      "outputs": [
        {
          "output_type": "execute_result",
          "data": {
            "text/plain": [
              "-0.19999999999999996"
            ]
          },
          "metadata": {},
          "execution_count": 5
        }
      ]
    },
    {
      "cell_type": "markdown",
      "source": [
        "### 가중치와 편향 구현하기"
      ],
      "metadata": {
        "id": "1w4F83Vfwfsa"
      }
    },
    {
      "cell_type": "code",
      "source": [
        "#NAND 게이트 구현\n",
        "def NAND(x1, x2):\n",
        "  x = np.array([x1, x2])\n",
        "  w = np.array([-0.5, -0.5])\n",
        "  b = -0.7\n",
        "  tmp = np.sum(w*x) + b\n",
        "  if tmp <= 0:\n",
        "    return 0\n",
        "  else:\n",
        "    return 1\n",
        "\n",
        "#OR 게이트 구현\n",
        "def OR(x1, x2):\n",
        "  x = np.array([x1, x2])\n",
        "  w = np.array([0.5, 0.5])\n",
        "  b = -0.2\n",
        "  tmp = np.sum(w*x) + b\n",
        "  if tmp <= 0:\n",
        "    return 0\n",
        "  else:\n",
        "    return 1"
      ],
      "metadata": {
        "id": "xl7ZqMKRxAIn"
      },
      "execution_count": 14,
      "outputs": []
    },
    {
      "cell_type": "markdown",
      "source": [
        "### XOR 게이트\n",
        "XOR 게이트는 배타적 논리합이라는 논리회로로, x1, x2 중 한쪽이 1일 때만 1을 출력함.\n",
        "\n",
        "하지만 지금까지의 퍼셉트론으로는 XOR 게이트 구현이 불가능함.\n",
        "식을 그래프로 나타내면 직선의 방정식으로, 직선으로 나뉜 두 영역를 구함. 하지만 x1, x2 중 한쪽이 1일 때와 둘다 0, 1 인 부분을 나누는건 불가능함.\n"
      ],
      "metadata": {
        "id": "m3_0AWfCxtfW"
      }
    },
    {
      "cell_type": "code",
      "source": [
        "import matplotlib.pyplot as plt\n",
        "\n",
        "# 가중치 설정\n",
        "w1, w2 = 1, 1  # 예시 가중치\n",
        "bias = -0.5\n",
        "\n",
        "x1 = np.linspace(-2, 2, 100)\n",
        "x2 = (-bias - w1*x1) / w2\n",
        "\n",
        "points_red = np.array([[1, 1], [0, 0]])  # y = 1 (빨간색 점)\n",
        "points_blue = np.array([[1, 0], [0, 1]])  # y = 0 (파란색 점)\n",
        "plt.plot(x1, x2, label='Decision Boundary')\n",
        "\n",
        "# y = 1에 해당하는 점들을 빨간색으로 표시\n",
        "for point in points_red:\n",
        "    plt.plot(point[0], point[1], 'ro')\n",
        "\n",
        "# y = 0에 해당하는 점들을 파란색으로 표시\n",
        "for point in points_blue:\n",
        "    plt.plot(point[0], point[1], 'bo')\n",
        "\n",
        "# 그래프 설정 재적용\n",
        "plt.xlim([-2, 2])\n",
        "plt.ylim([-2, 2])\n",
        "plt.xlabel('x1')\n",
        "plt.ylabel('x2')\n",
        "plt.axhline(0, color='black',linewidth=0.5)\n",
        "plt.axvline(0, color='black',linewidth=0.5)\n",
        "plt.grid(color = 'gray', linestyle = '--', linewidth = 0.5)\n",
        "plt.legend()"
      ],
      "metadata": {
        "colab": {
          "base_uri": "https://localhost:8080/",
          "height": 473
        },
        "id": "o5c5OKkOxvgm",
        "outputId": "991cd906-e143-4d54-8c75-857986f27c67"
      },
      "execution_count": 9,
      "outputs": [
        {
          "output_type": "execute_result",
          "data": {
            "text/plain": [
              "<matplotlib.legend.Legend at 0x7dcde6414130>"
            ]
          },
          "metadata": {},
          "execution_count": 9
        },
        {
          "output_type": "display_data",
          "data": {
            "text/plain": [
              "<Figure size 640x480 with 1 Axes>"
            ],
            "image/png": "[encoded data removed]"
          },
          "metadata": {}
        }
      ]
    },
    {
      "cell_type": "markdown",
      "source": [
        "위 그래프를 빨간점은 빨간점끼리, 파란점은 파란점끼리 영역을 나눠야하지만 불가능함"
      ],
      "metadata": {
        "id": "iu6D24Ymz_LB"
      }
    },
    {
      "cell_type": "markdown",
      "source": [
        "### 선형 & 비선형\n",
        "위 처럼 직선으로 나눈 영역을 선형영역, 곡선으로 나눈 영역은 비선형 영역이라함"
      ],
      "metadata": {
        "id": "SYqEMMmC0QIH"
      }
    },
    {
      "cell_type": "markdown",
      "source": [
        "### 기존 게이트 조합하기\n",
        "XOR 게이트는 게이트끼리 층을 쌓아서 구현이 가능함.\n",
        "\n",
        "\n",
        "*  x1의 입력신호와 x2입력신호를 AND, OR 게이트가 각각 따로 받고, 이 두개의 게이트에서 나온 결과를 다시 NAND 게이트에 입력하면 XOR 게이트 구현이 가능하다.\n",
        "*  이런 구조를 다층구조의 네트워크라하며, 입력 노드는 0층, NAND, OR 게이트 단계는 1층, AND 게이트는 이라 부르며, 구현한 XOR 게이트는 2층 퍼셉트론 이다.\n",
        "*  즉 단층 퍼셉트론으로는 표현하지 못한 것을 층을 늘려 구현이 가능하다.\n"
      ],
      "metadata": {
        "id": "zYLlbrHZ0RBf"
      }
    },
    {
      "cell_type": "markdown",
      "source": [
        "### XOR 게이트 구현하기"
      ],
      "metadata": {
        "id": "ze6z18Jl1xi4"
      }
    },
    {
      "cell_type": "code",
      "source": [
        "#XOR 게이트\n",
        "def XOR(x1, x2):\n",
        "  s1 = NAND(x1, x2)\n",
        "  s2 = OR(x1, x2)\n",
        "  y = AND(s1, s2)\n",
        "  return y"
      ],
      "metadata": {
        "id": "yKcRKhA-0PHS"
      },
      "execution_count": 18,
      "outputs": []
    },
    {
      "cell_type": "code",
      "source": [
        "print (XOR(0, 0), XOR(0, 1), XOR(1, 0), XOR(1, 1))"
      ],
      "metadata": {
        "colab": {
          "base_uri": "https://localhost:8080/"
        },
        "id": "r0lhkh_U2Z9V",
        "outputId": "4511e81a-7451-45c1-80c0-4bac58ef4e86"
      },
      "execution_count": 20,
      "outputs": [
        {
          "output_type": "stream",
          "name": "stdout",
          "text": [
            "0 1 1 1\n"
          ]
        }
      ]
    },
    {
      "cell_type": "markdown",
      "source": [
        "### 정리\n",
        "\n",
        "\n",
        "*  퍼셉트론은 입출력을 갖춘 알고리즘이다. 입력을 주면 정해진 규칙에 따른 값을 출력한다.\n",
        "*  퍼셉트론에서는 ‘가중치’와 ‘편향’을 매개변수로 설정한다.\n",
        "*  퍼셉트론으로 AND, OR 게이트 등의 논리 회로를 표현할 수 있다.\n",
        "*  XOR 게이트는 단층 퍼셉트론으로는 표현할 수 없다.\n",
        "*  2층 퍼셉트론을 이용하면 XOR 게이트를 표현할 수 있다.\n",
        "*  단층 퍼셉트론은 직선형 영역만 표현할 수 있고, 다층 퍼셉트론은 비선형 영역도 표현할 수 있다.\n",
        "*  다층 퍼셉트론은 (이론상) 컴퓨터를 표현할 수 있다.\n"
      ],
      "metadata": {
        "id": "dMQBVaPM3lOU"
      }
    }
  ]
}