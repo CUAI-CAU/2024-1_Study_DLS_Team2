{
  "nbformat": 4,
  "nbformat_minor": 0,
  "metadata": {
    "colab": {
      "provenance": []
    },
    "kernelspec": {
      "name": "python3",
      "display_name": "Python 3"
    },
    "language_info": {
      "name": "python"
    }
  },
  "cells": [
    {
      "cell_type": "markdown",
      "source": [
        "# Deep Learning from scratch\n",
        "\n",
        "### chapter 3"
      ],
      "metadata": {
        "id": "OqJMhLYVoogS"
      }
    },
    {
      "cell_type": "code",
      "execution_count": 1,
      "metadata": {
        "id": "8Zvjy1yVa_XZ"
      },
      "outputs": [],
      "source": [
        "import numpy as np\n",
        "import matplotlib.pylab as plt"
      ]
    },
    {
      "cell_type": "markdown",
      "source": [
        "## 시그모이드 함수\n",
        "*  h(x) = 1/(1 + exp(-x))\n"
      ],
      "metadata": {
        "id": "olGBVfwTbNXy"
      }
    },
    {
      "cell_type": "markdown",
      "source": [
        "## 계단함수\n",
        "*  입력값을 경계로 출력이 바뀌는 함수"
      ],
      "metadata": {
        "id": "r2Xw9MuFdLh9"
      }
    },
    {
      "cell_type": "code",
      "source": [
        "# 계단 함수 구현하기\n",
        "def step_function(x):\n",
        "    if x > 0:\n",
        "        return 1\n",
        "    else:\n",
        "        return 0"
      ],
      "metadata": {
        "id": "5qLXJgi1bHih"
      },
      "execution_count": 5,
      "outputs": []
    },
    {
      "cell_type": "code",
      "source": [
        "def step_function(x):\n",
        "    y = x > 0\n",
        "    return y.astype(np.int)"
      ],
      "metadata": {
        "id": "xupTkR_qbHk2"
      },
      "execution_count": 3,
      "outputs": []
    },
    {
      "cell_type": "code",
      "source": [
        "x = np.array([-1.0, 1.0, 2.0])\n",
        "x"
      ],
      "metadata": {
        "colab": {
          "base_uri": "https://localhost:8080/"
        },
        "id": "QaH4aQm6bHnD",
        "outputId": "d19ada54-9dec-4c2f-ef20-3adbd6b95aa9"
      },
      "execution_count": 7,
      "outputs": [
        {
          "output_type": "execute_result",
          "data": {
            "text/plain": [
              "array([-1.,  1.,  2.])"
            ]
          },
          "metadata": {},
          "execution_count": 7
        }
      ]
    },
    {
      "cell_type": "code",
      "source": [
        "y = x>0\n",
        "y"
      ],
      "metadata": {
        "colab": {
          "base_uri": "https://localhost:8080/"
        },
        "id": "T1ABNkV_cOD3",
        "outputId": "8e9a61bb-627f-41f0-d792-3f8b3388c2b4"
      },
      "execution_count": 9,
      "outputs": [
        {
          "output_type": "execute_result",
          "data": {
            "text/plain": [
              "array([False,  True,  True])"
            ]
          },
          "metadata": {},
          "execution_count": 9
        }
      ]
    },
    {
      "cell_type": "code",
      "source": [
        "# dtype=int 로 사용\n",
        "def step_function(x):\n",
        "    return np.array(x > 0, dtype=int)"
      ],
      "metadata": {
        "id": "6PXpOB3FcnUm"
      },
      "execution_count": 14,
      "outputs": []
    },
    {
      "cell_type": "code",
      "source": [
        "# 계단 함수의 그래프\n",
        "x = np.arange(-5.0, 5.0, 0.1)\n",
        "y = step_function(x)\n",
        "\n",
        "plt.plot(x, y)\n",
        "plt.ylim(-0.1, 1.1)  # y축의 범위 지정\n",
        "# plt.show()"
      ],
      "metadata": {
        "colab": {
          "base_uri": "https://localhost:8080/",
          "height": 448
        },
        "id": "COwmYyjabHpG",
        "outputId": "5c1b0d70-5b83-4a4a-c6f3-324c2e4560d8"
      },
      "execution_count": 15,
      "outputs": [
        {
          "output_type": "execute_result",
          "data": {
            "text/plain": [
              "(-0.1, 1.1)"
            ]
          },
          "metadata": {},
          "execution_count": 15
        },
        {
          "output_type": "display_data",
          "data": {
            "text/plain": [
              "<Figure size 640x480 with 1 Axes>"
            ],
            "image/png": "[encoded data removed]"
          },
          "metadata": {}
        }
      ]
    },
    {
      "cell_type": "code",
      "source": [
        "# 시그모이드 함수 구현하기\n",
        "def sigmoid(x):\n",
        "    return 1 / (1 + np.exp(-x))\n"
      ],
      "metadata": {
        "id": "CJzz0DLqbHrY"
      },
      "execution_count": 16,
      "outputs": []
    },
    {
      "cell_type": "code",
      "source": [
        "x = np.arange(-5.0, 5.0, 0.1)\n",
        "y = sigmoid(x)\n",
        "\n",
        "plt.plot(x, y)\n",
        "plt.ylim(-0.1, 1.1)  # y축의 범위 지정\n",
        "plt.show()"
      ],
      "metadata": {
        "colab": {
          "base_uri": "https://localhost:8080/",
          "height": 430
        },
        "id": "Ghs_VqpdbHuA",
        "outputId": "ab8f8506-c067-4dc5-cea8-354d06935a68"
      },
      "execution_count": 17,
      "outputs": [
        {
          "output_type": "display_data",
          "data": {
            "text/plain": [
              "<Figure size 640x480 with 1 Axes>"
            ],
            "image/png": "[encoded data removed]"
          },
          "metadata": {}
        }
      ]
    },
    {
      "cell_type": "markdown",
      "source": [
        "## 비선형 함수\n",
        "*  선형 함수는 은닉층이 없는 네트워크로 표현할 수 있다.\n",
        "*  층을 쌓는 혜택을 얻고 싶다면 활성화 함수로는 비선형 함수를 사용해야 한다."
      ],
      "metadata": {
        "id": "3tuNSLrgdEaF"
      }
    },
    {
      "cell_type": "markdown",
      "source": [
        "## ReLU 함수\n",
        "*  Rectified Linear Unit - 입력이 0을 넘으면 입력 그대로, 아니면 0을 출력하는 함수"
      ],
      "metadata": {
        "id": "HOg1a2TCdUOi"
      }
    },
    {
      "cell_type": "code",
      "source": [
        "def relu(x):\n",
        "    return np.maximum(0, x)"
      ],
      "metadata": {
        "id": "rohPul_RbHwN"
      },
      "execution_count": 18,
      "outputs": []
    },
    {
      "cell_type": "markdown",
      "source": [
        "## 다차원 배열"
      ],
      "metadata": {
        "id": "PqEZ8mIJdf8U"
      }
    },
    {
      "cell_type": "code",
      "source": [
        "# 다차원 배열\n",
        "A = np.array([1, 2, 3, 4])\n",
        "print(A)  # [1 2 3 4]\n",
        "print(np.ndim(A))  # 1\n",
        "print(A.shape)  # (4,)"
      ],
      "metadata": {
        "colab": {
          "base_uri": "https://localhost:8080/"
        },
        "id": "6xpYgH2NbHyP",
        "outputId": "682012dd-0aeb-4104-812f-4af12b31b464"
      },
      "execution_count": 19,
      "outputs": [
        {
          "output_type": "stream",
          "name": "stdout",
          "text": [
            "[1 2 3 4]\n",
            "1\n",
            "(4,)\n"
          ]
        }
      ]
    },
    {
      "cell_type": "code",
      "source": [
        "B = np.array([[1, 2], [3, 4], [5, 6]])\n",
        "print(B)\n",
        "print(np.ndim(B))  # 2\n",
        "print(B.shape)  # (3, 2)"
      ],
      "metadata": {
        "colab": {
          "base_uri": "https://localhost:8080/"
        },
        "id": "DlNhfjPXbH0Z",
        "outputId": "12d03a1b-ac67-4316-c055-12f7ed0ba120"
      },
      "execution_count": 20,
      "outputs": [
        {
          "output_type": "stream",
          "name": "stdout",
          "text": [
            "[[1 2]\n",
            " [3 4]\n",
            " [5 6]]\n",
            "2\n",
            "(3, 2)\n"
          ]
        }
      ]
    },
    {
      "cell_type": "code",
      "source": [
        "#  행렬의 곱\n",
        "A = np.array([[1, 2], [3, 4]])\n",
        "B = np.array([[5, 6], [7, 8]])\n",
        "print(np.dot(A, B))"
      ],
      "metadata": {
        "colab": {
          "base_uri": "https://localhost:8080/"
        },
        "id": "goYdBqaGbH2q",
        "outputId": "d8b53c94-5b71-4b2c-9e90-ac58545aed5f"
      },
      "execution_count": 21,
      "outputs": [
        {
          "output_type": "stream",
          "name": "stdout",
          "text": [
            "[[19 22]\n",
            " [43 50]]\n"
          ]
        }
      ]
    },
    {
      "cell_type": "code",
      "source": [
        "X = np.array([1, 2])\n",
        "W = np.array([[1, 3, 5], [2, 4, 6]])\n",
        "Y = np.dot(X, W)\n",
        "print(Y)"
      ],
      "metadata": {
        "colab": {
          "base_uri": "https://localhost:8080/"
        },
        "id": "uLG-Ej7kdyVW",
        "outputId": "63377adf-744b-4a23-8e43-269a21ae36ad"
      },
      "execution_count": 23,
      "outputs": [
        {
          "output_type": "stream",
          "name": "stdout",
          "text": [
            "[ 5 11 17]\n"
          ]
        }
      ]
    },
    {
      "cell_type": "markdown",
      "source": [
        "## 신경망 구현\n",
        "*  입력층(0층) 2개, 첫 번째 은닉층(1층) 3개, 두 번째 은닉층(2층) 2개, 출력층(3층) 2개의\n",
        "뉴런으로 구성.\n",
        "  *  1, 2층의 활성화 함수 : 시그모이드\n",
        "  *  3층의 활성화 함수 : 항등함수\n",
        "\n",
        "*  출력층의 활성화 함수는 풀고자 하는 문제의 성질에 맞게 정한다.\n",
        "  *  ex) 회귀에는 항등함수, 2클래스 분류에는 시그모이드 함수, 다중 클래스 분류에는 소프트맥스 함수를 사용하는 것이 일반적이다."
      ],
      "metadata": {
        "id": "kxgQuD0IeFfW"
      }
    },
    {
      "cell_type": "code",
      "source": [
        "# 시그모이드 함수 구현하기\n",
        "def sigmoid(x):\n",
        "    return 1 / (1 + np.exp(-x))"
      ],
      "metadata": {
        "id": "Ytlfli9ueWRM"
      },
      "execution_count": 24,
      "outputs": []
    },
    {
      "cell_type": "code",
      "source": [
        "# 항등함수\n",
        "def identity_function(x):\n",
        "    return x\n"
      ],
      "metadata": {
        "id": "5R9niwLTeapC"
      },
      "execution_count": 25,
      "outputs": []
    },
    {
      "cell_type": "code",
      "source": [
        "# 구현 정리\n",
        "def init_network():\n",
        "    network = {}\n",
        "    network['W1'] = np.array([[0.1, 0.3, 0.5], [0.2, 0.4, 0.6]])\n",
        "    network['b1'] = np.array([0.1, 0.2, 0.3])\n",
        "    network['W2'] = np.array([[0.1, 0.4], [0.2, 0.5], [0.3, 0.6]])\n",
        "    network['b2'] = np.array([0.1, 0.2])\n",
        "    network['W3'] = np.array([[0.1, 0.3], [0.2, 0.4]])\n",
        "    network['b3'] = np.array([0.1, 0.2])\n",
        "\n",
        "    return network\n",
        "\n",
        "\n",
        "def forward(network, x):\n",
        "    W1, W2, W3 = network['W1'], network['W2'], network['W3']\n",
        "    b1, b2, b3 = network['b1'], network['b2'], network['b3']\n",
        "\n",
        "    a1 = np.dot(x, W1) + b1\n",
        "    z1 = sigmoid(a1)\n",
        "    a2 = np.dot(z1, W2) + b2\n",
        "    z2 = sigmoid(a2)\n",
        "    a3 = np.dot(z2, W3) + b3\n",
        "    y = identity_function(a3)\n",
        "\n",
        "    return y\n",
        "\n",
        "\n",
        "network = init_network()\n",
        "x = np.array([1.0, 0.5])\n",
        "y = forward(network, x)  # [ 0.31682708  0.69627909]\n",
        "\n",
        "print(y)"
      ],
      "metadata": {
        "colab": {
          "base_uri": "https://localhost:8080/"
        },
        "id": "t8OlmVWFejVx",
        "outputId": "34c6f24f-4413-4860-c8d7-514271ff87e9"
      },
      "execution_count": 26,
      "outputs": [
        {
          "output_type": "stream",
          "name": "stdout",
          "text": [
            "[0.31682708 0.69627909]\n"
          ]
        }
      ]
    },
    {
      "cell_type": "markdown",
      "source": [
        "## 출력층 설계\n",
        "기계학습 문제는 분류classification와\n",
        "회귀regression로 나뉜다.\n",
        "*  분류 : 데이터가 어느 클래스에 속하는가 하는 문제.\n",
        "*  회귀 : 입력 데이터에서 (연속적인) 수치를 예측하는 문제."
      ],
      "metadata": {
        "id": "Zfqff6E8et4P"
      }
    },
    {
      "cell_type": "markdown",
      "source": [
        "*  소프트맥스 함수\n",
        "  *  yk = exp(ak) / sigma(i=1 to n)(exp(ai))"
      ],
      "metadata": {
        "id": "lZuA8cRoe_Kg"
      }
    },
    {
      "cell_type": "code",
      "source": [
        "def softmax(a):\n",
        "    c = np.max(a)\n",
        "    exp_a = np.exp(a - c)  # 오버플로 대책\n",
        "    sum_exp_a = np.sum(exp_a)\n",
        "    y = exp_a / sum_exp_a\n",
        "\n",
        "    return y\n"
      ],
      "metadata": {
        "id": "sU1NX2Yverdg"
      },
      "execution_count": 28,
      "outputs": []
    },
    {
      "cell_type": "markdown",
      "source": [
        "## 소프트맥스 함수 구현시 주의점\n",
        "\n",
        "*  소프트맥스 함수는 지수함수를 사용하기 때문에 아주 큰 값을 사용하게 되고,\n",
        "오버플로로 인해 결과 수치가 불안정해질 수 있다.\n",
        "*  분자분모에 특정 수치(일반적으로 최대값)을 곱해줘서 결과를 보정한다."
      ],
      "metadata": {
        "id": "RGFjitVGfE_v"
      }
    },
    {
      "cell_type": "code",
      "source": [
        "print(softmax(np.array([1010, 1000, 990])))"
      ],
      "metadata": {
        "colab": {
          "base_uri": "https://localhost:8080/"
        },
        "id": "V8HVquDFergt",
        "outputId": "1c2071a9-af8e-44a3-90f4-099e8c1233ad"
      },
      "execution_count": 29,
      "outputs": [
        {
          "output_type": "stream",
          "name": "stdout",
          "text": [
            "[9.99954600e-01 4.53978686e-05 2.06106005e-09]\n"
          ]
        }
      ]
    },
    {
      "cell_type": "markdown",
      "source": [
        "## 소프트함수 특징\n",
        "*  소프트맥스 함수의 출력은 0에서 1사이의 실수이며 출력의 총합은 1이다.\n",
        "따라서 출력을 확률로 해석할 수 있다.\n",
        "단, 원소의 대소 관계는 변하지 않기 때문에 자원 낭비를 줄이기 위해 생략하기도 한다.\n",
        "\n",
        "*  기계 학습의 문제 풀이는 학습과 추론의 두 단계로 이루어진다.\n",
        "추론 단계에서는 출력층의 소프트맥스 함수를 생략하는 것이 일반적이며,\n",
        "학습시킬때는 출력층에서 소프트맥스 함수를 사용한다."
      ],
      "metadata": {
        "id": "0DP8C5tAfQiE"
      }
    },
    {
      "cell_type": "code",
      "source": [
        "a = np.array([0.3, 2.9, 4.0])\n",
        "y = softmax(a)\n",
        "print(y)\n",
        "print(np.sum(y))"
      ],
      "metadata": {
        "colab": {
          "base_uri": "https://localhost:8080/"
        },
        "id": "lxcQC7G_erim",
        "outputId": "cffc0b0f-a2b3-47e9-9a01-76e80234ffa8"
      },
      "execution_count": 30,
      "outputs": [
        {
          "output_type": "stream",
          "name": "stdout",
          "text": [
            "[0.01821127 0.24519181 0.73659691]\n",
            "1.0\n"
          ]
        }
      ]
    },
    {
      "cell_type": "markdown",
      "source": [
        "## 출력층의 뉴런 수 정하기\n",
        "*  출력층의 뉴런 수는 풀려는 문제에 맞게 적절히 정해야 한다.\n",
        "*  분류에서는 분류하고 싶은 클래스 수로 설정하는 것이 일반적이다."
      ],
      "metadata": {
        "id": "pEDRlYLGfbhH"
      }
    },
    {
      "cell_type": "markdown",
      "source": [
        "## 손글씨 숫자 인식"
      ],
      "metadata": {
        "id": "hdj9xlfifjkZ"
      }
    },
    {
      "cell_type": "code",
      "source": [
        "from google.colab import drive\n",
        "drive.mount('/content/drive')"
      ],
      "metadata": {
        "colab": {
          "base_uri": "https://localhost:8080/"
        },
        "id": "F9e8axx1gvqS",
        "outputId": "4c12a77d-4ee3-44cb-cd63-2e9d549f96d5"
      },
      "execution_count": 33,
      "outputs": [
        {
          "output_type": "stream",
          "name": "stdout",
          "text": [
            "Mounted at /content/drive\n"
          ]
        }
      ]
    },
    {
      "cell_type": "code",
      "source": [
        "import sys\n",
        "import os\n",
        "import pickle\n",
        "import numpy as np\n",
        "\n",
        "# Python 모듈 검색 경로에 디렉터리 추가\n",
        "sys.path.append('/content/drive/MyDrive/WegraLee-deep-learning-from-scratch-master')\n",
        "\n",
        "# 필요한 모듈 임포트\n",
        "from dataset.mnist import load_mnist\n",
        "from common.functions import sigmoid, softmax"
      ],
      "metadata": {
        "id": "d3tCXg1Ferke"
      },
      "execution_count": 38,
      "outputs": []
    },
    {
      "cell_type": "markdown",
      "source": [
        "# 3.6.1 MNIST 데이터셋\n",
        "\n",
        "*  0~9 숫자 이미지로 구성.\n",
        "*  훈련 이미지 60000장, 시험 이미지 10000장\n",
        "*  28*28 크기의 회색조 이미지이며 각 픽셀은 0~255의 값을 가짐\n",
        "*  레이블은 정답에 해당하는 숫자\n",
        "\n"
      ],
      "metadata": {
        "id": "2lAvn-j_mnvr"
      }
    },
    {
      "cell_type": "markdown",
      "source": [
        "  *  flatten : 입력 이미지를 평탄화(1차원 배열로)\n",
        "  *  normalize : 입력 이미지를 정규화(0.0~1.0 사이의 값으로)\n",
        "  *  one_hot_label : 레이블을 원-핫 인코딩 형태로 저장"
      ],
      "metadata": {
        "id": "uSJNA3LXm9Vi"
      }
    },
    {
      "cell_type": "code",
      "source": [
        "(x_train, t_train), (x_test, t_test) = load_mnist(flatten=True,\n",
        "                                                  normalize=False)"
      ],
      "metadata": {
        "colab": {
          "base_uri": "https://localhost:8080/"
        },
        "id": "3nGkZEzTm2vk",
        "outputId": "262f2587-3f75-4ed7-df15-59772cd05346"
      },
      "execution_count": 40,
      "outputs": [
        {
          "output_type": "stream",
          "name": "stdout",
          "text": [
            "Converting train-images-idx3-ubyte.gz to NumPy Array ...\n",
            "Done\n",
            "Converting train-labels-idx1-ubyte.gz to NumPy Array ...\n",
            "Done\n",
            "Converting t10k-images-idx3-ubyte.gz to NumPy Array ...\n",
            "Done\n",
            "Converting t10k-labels-idx1-ubyte.gz to NumPy Array ...\n",
            "Done\n",
            "Creating pickle file ...\n",
            "Done!\n"
          ]
        }
      ]
    },
    {
      "cell_type": "code",
      "source": [
        "# 각 데이터의 형상 출력\n",
        "print(x_train.shape)\n",
        "print(t_train.shape)\n",
        "print(x_test.shape)\n",
        "print(t_test.shape)"
      ],
      "metadata": {
        "colab": {
          "base_uri": "https://localhost:8080/"
        },
        "id": "Krle0Ylvermx",
        "outputId": "44d26340-19bc-426c-d297-12ab1b38d9aa"
      },
      "execution_count": 42,
      "outputs": [
        {
          "output_type": "stream",
          "name": "stdout",
          "text": [
            "(60000, 784)\n",
            "(60000,)\n",
            "(10000, 784)\n",
            "(10000,)\n"
          ]
        }
      ]
    },
    {
      "cell_type": "markdown",
      "source": [
        "# 신경망의 추론 처리\n",
        "\n",
        "*  입력층 784개\n",
        "*  출력층 10개,\n",
        "*  은닉층 50개, 100개로 구성"
      ],
      "metadata": {
        "id": "hd_K532XnA26"
      }
    },
    {
      "cell_type": "code",
      "source": [
        "def get_data():\n",
        "    (x_train, t_train), (x_test, t_test) = \\\n",
        "        load_mnist(flatten=True, normalize=True, one_hot_label=False)\n",
        "    return x_test, t_test\n",
        "\n",
        "\n",
        "def init_network():\n",
        "    with open(\"/content/drive/MyDrive/WegraLee-deep-learning-from-scratch-master/ch03/sample_weight.pkl\", 'rb') as f:\n",
        "        # 학습된 가중치 매개변수가 담긴 파일\n",
        "        # 학습 없이 바로 추론을 수행\n",
        "        network = pickle.load(f)\n",
        "\n",
        "    return network\n",
        "\n",
        "\n",
        "def predict(network, x):\n",
        "    W1, W2, W3 = network['W1'], network['W2'], network['W3']\n",
        "    b1, b2, b3 = network['b1'], network['b2'], network['b3']\n",
        "    a1 = np.dot(x, W1) + b1\n",
        "    z1 = sigmoid(a1)\n",
        "    a2 = np.dot(z1, W2) + b2\n",
        "    z2 = sigmoid(a2)\n",
        "    a3 = np.dot(z2, W3) + b3\n",
        "    y = softmax(a3)\n",
        "\n",
        "    return y"
      ],
      "metadata": {
        "id": "Wm3Tsm5im-vE"
      },
      "execution_count": 47,
      "outputs": []
    },
    {
      "cell_type": "code",
      "source": [
        "x, t = get_data()\n",
        "network = init_network()\n",
        "accuracy_cnt = 0\n",
        "\n",
        "for i in range(len(x)):\n",
        "    y = predict(network, x[i])\n",
        "    p = np.argmax(y)  # 확률이 가장 높은 원소의 인덱스를 얻는다.\n",
        "    if p == t[i]:\n",
        "        accuracy_cnt += 1\n",
        "\n",
        "print(\"Accuracy:\" + str(float(accuracy_cnt) / len(x)))  # Accuracy:0.9352"
      ],
      "metadata": {
        "colab": {
          "base_uri": "https://localhost:8080/"
        },
        "id": "xsHGRkpYnMEn",
        "outputId": "20e58908-3bc1-4d68-be19-b534626b7bbd"
      },
      "execution_count": 48,
      "outputs": [
        {
          "output_type": "stream",
          "name": "stdout",
          "text": [
            "Accuracy:0.9352\n"
          ]
        }
      ]
    },
    {
      "cell_type": "code",
      "source": [
        "# 배치 처리\n",
        "batch_size = 100\n",
        "\n",
        "for i in range(0, len(x), batch_size):\n",
        "    x_batch = x[i:i+batch_size]\n",
        "    y_batch = predict(network, x_batch)\n",
        "    p = np.argmax(y_batch, axis=1)\n",
        "    accuracy_cnt += np.sum(p == t[i:i+batch_size])\n",
        "\n",
        "print(\"Accuracy:\" + str(float(accuracy_cnt) / len(x)))  # Accuracy:0.9352"
      ],
      "metadata": {
        "colab": {
          "base_uri": "https://localhost:8080/"
        },
        "id": "lzatuaPEnd4G",
        "outputId": "d3ec02bc-2e6a-4f9f-e35a-13f2fef6e631"
      },
      "execution_count": 49,
      "outputs": [
        {
          "output_type": "stream",
          "name": "stdout",
          "text": [
            "Accuracy:1.8704\n"
          ]
        }
      ]
    }
  ]
}